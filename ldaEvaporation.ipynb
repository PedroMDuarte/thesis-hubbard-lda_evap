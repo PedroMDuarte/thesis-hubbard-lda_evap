{
 "metadata": {
  "name": "",
  "signature": "sha256:aec4a274289c9375914fc18a9e8fe6f007da0d36cf23d61084c350831a1efbaa"
 },
 "nbformat": 3,
 "nbformat_minor": 0,
 "worksheets": [
  {
   "cells": [
    {
     "cell_type": "code",
     "collapsed": false,
     "input": [
      "## Benchmark testing the code for finding the optimal green value for evaporation"
     ],
     "language": "python",
     "metadata": {},
     "outputs": []
    },
    {
     "cell_type": "code",
     "collapsed": false,
     "input": [
      "import optevap"
     ],
     "language": "python",
     "metadata": {},
     "outputs": [],
     "prompt_number": 2
    },
    {
     "cell_type": "code",
     "collapsed": false,
     "input": [
      "%%timeit \n",
      "\n",
      "optevap.optimal( s0=7., wL=45., wC=28.) "
     ],
     "language": "python",
     "metadata": {},
     "outputs": [
      {
       "output_type": "stream",
       "stream": "stdout",
       "text": [
        "1 loops, best of 3: 140 ms per loop\n"
       ]
      }
     ],
     "prompt_number": 3
    },
    {
     "cell_type": "markdown",
     "metadata": {},
     "source": [
      "## Code that optimizes the trap given s0, wL, wG\n",
      "\n",
      "When optimizing the trap parameters only the ratio  wL/wC is relevant so we do not need to run nested wL, wC loops, just fix wL at some value and vary wG.   "
     ]
    },
    {
     "cell_type": "code",
     "collapsed": false,
     "input": [
      "import optevap\n",
      "s=7.0\n",
      "aS=650.\n",
      "\n",
      "\n",
      "\n",
      "def ext( wIR, alpha ):\n",
      "    if alpha <= 0.85:\n",
      "        e = 1.10*wIR\n",
      "    elif alpha <=0.90:\n",
      "        e = 1.20*wIR\n",
      "    elif alpha < 0.95:\n",
      "        e = 1.30*wIR\n",
      "    elif alpha <= 1.:\n",
      "        e = 1.40*wIR\n",
      "    elif alpha <= 1.05:\n",
      "        e = 1.45*wIR\n",
      "    elif alpha <= 1.10:\n",
      "        e = 1.50*wIR\n",
      "    elif alpha <= 1.13:\n",
      "        e = 1.50*wIR\n",
      "    elif alpha <= 1.16:\n",
      "        e = 1.50*wIR\n",
      "    elif alpha <= 1.18:\n",
      "        e = 1.50*wIR\n",
      "    elif alpha <= 1.20:\n",
      "        e = 1.50*wIR \n",
      "    elif alpha <= 1.30:\n",
      "        e = 1.45*wIR\n",
      "    else:\n",
      "        e = 1.30*wIR\n",
      "        \n",
      "    estr =  \"wIR=%.2f, alpha=%.3f --> extents=%.2f\"%(wIR,alpha,e)\n",
      "    return e, estr\n",
      "\n",
      "savefile = 'alpha_opt/001.dat'\n",
      "open(savefile, 'w').close()\n",
      "\n",
      "wIR = 47. \n",
      "wGRs = np.arange( 28., 72., 0.5) \n",
      "for wGR in wGRs:\n",
      "    \n",
      "    if np.abs( wIR/wGR - 1.17 ) < 0.0: \n",
      "        continue\n",
      "    else:\n",
      "        print \"  wGR=%d\"%wGR,\n",
      "    #print \"wGR=%d..\" % (wGR),\n",
      "    T=0.2; extents, extstr = ext( wIR, wIR/wGR) \n",
      "    try:\n",
      "        res =  np.array( [ [s, wIR, wGR]+ \\\n",
      "                optevap.optimal( s0=s, wL=wIR, wC=wGR, a_s=aS, T_Er=T, \\\n",
      "                                 extents=extents) ] )\n",
      "\n",
      "        f_handle = file(savefile, 'a')\n",
      "        np.savetxt(f_handle, res, fmt='%.4g')\n",
      "        f_handle.close()\n",
      "\n",
      "    except Exception as e:\n",
      "        print \" wIR=%d,wGR=%d->ERR\"%(wIR,wGR)\n",
      "        print extstr\n",
      "        print e \n",
      "        raise\n"
     ],
     "language": "python",
     "metadata": {},
     "outputs": [
      {
       "output_type": "stream",
       "stream": "stdout",
       "text": [
        "  wGR=28 "
       ]
      },
      {
       "output_type": "stream",
       "stream": "stdout",
       "text": [
        "  wGR=28 "
       ]
      },
      {
       "output_type": "stream",
       "stream": "stdout",
       "text": [
        "  wGR=29 "
       ]
      },
      {
       "output_type": "stream",
       "stream": "stdout",
       "text": [
        "  wGR=29 "
       ]
      },
      {
       "output_type": "stream",
       "stream": "stdout",
       "text": [
        "  wGR=30 "
       ]
      },
      {
       "output_type": "stream",
       "stream": "stdout",
       "text": [
        "  wGR=30 "
       ]
      },
      {
       "output_type": "stream",
       "stream": "stdout",
       "text": [
        "  wGR=31 "
       ]
      },
      {
       "output_type": "stream",
       "stream": "stdout",
       "text": [
        "  wGR=31 "
       ]
      },
      {
       "output_type": "stream",
       "stream": "stdout",
       "text": [
        "  wGR=32 "
       ]
      },
      {
       "output_type": "stream",
       "stream": "stdout",
       "text": [
        "  wGR=32 "
       ]
      },
      {
       "output_type": "stream",
       "stream": "stdout",
       "text": [
        "  wGR=33 "
       ]
      },
      {
       "output_type": "stream",
       "stream": "stdout",
       "text": [
        "  wGR=33 "
       ]
      },
      {
       "output_type": "stream",
       "stream": "stdout",
       "text": [
        "  wGR=34 "
       ]
      },
      {
       "output_type": "stream",
       "stream": "stdout",
       "text": [
        "  wGR=34 "
       ]
      },
      {
       "output_type": "stream",
       "stream": "stdout",
       "text": [
        "  wGR=35 "
       ]
      },
      {
       "output_type": "stream",
       "stream": "stdout",
       "text": [
        "  wGR=35 "
       ]
      },
      {
       "output_type": "stream",
       "stream": "stdout",
       "text": [
        "  wGR=36 "
       ]
      },
      {
       "output_type": "stream",
       "stream": "stdout",
       "text": [
        "  wGR=36 "
       ]
      },
      {
       "output_type": "stream",
       "stream": "stdout",
       "text": [
        "  wGR=37 "
       ]
      },
      {
       "output_type": "stream",
       "stream": "stdout",
       "text": [
        "  wGR=37 "
       ]
      },
      {
       "output_type": "stream",
       "stream": "stdout",
       "text": [
        "  wGR=38 "
       ]
      },
      {
       "output_type": "stream",
       "stream": "stdout",
       "text": [
        "  wGR=38 "
       ]
      },
      {
       "output_type": "stream",
       "stream": "stdout",
       "text": [
        "  wGR=39 "
       ]
      },
      {
       "output_type": "stream",
       "stream": "stdout",
       "text": [
        "  wGR=39 "
       ]
      },
      {
       "output_type": "stream",
       "stream": "stdout",
       "text": [
        "  wGR=40 "
       ]
      },
      {
       "output_type": "stream",
       "stream": "stdout",
       "text": [
        "  wGR=40 "
       ]
      },
      {
       "output_type": "stream",
       "stream": "stdout",
       "text": [
        "  wGR=41 "
       ]
      },
      {
       "output_type": "stream",
       "stream": "stdout",
       "text": [
        "  wGR=41 "
       ]
      },
      {
       "output_type": "stream",
       "stream": "stdout",
       "text": [
        "  wGR=42 "
       ]
      },
      {
       "output_type": "stream",
       "stream": "stdout",
       "text": [
        "  wGR=42 "
       ]
      },
      {
       "output_type": "stream",
       "stream": "stdout",
       "text": [
        "  wGR=43 "
       ]
      },
      {
       "output_type": "stream",
       "stream": "stdout",
       "text": [
        "  wGR=43 "
       ]
      },
      {
       "output_type": "stream",
       "stream": "stdout",
       "text": [
        "  wGR=44 "
       ]
      },
      {
       "output_type": "stream",
       "stream": "stdout",
       "text": [
        "  wGR=44 "
       ]
      },
      {
       "output_type": "stream",
       "stream": "stdout",
       "text": [
        "  wGR=45 "
       ]
      },
      {
       "output_type": "stream",
       "stream": "stdout",
       "text": [
        "  wGR=45 "
       ]
      },
      {
       "output_type": "stream",
       "stream": "stdout",
       "text": [
        "  wGR=46 "
       ]
      },
      {
       "output_type": "stream",
       "stream": "stdout",
       "text": [
        "  wGR=46 "
       ]
      },
      {
       "output_type": "stream",
       "stream": "stdout",
       "text": [
        "  wGR=47 "
       ]
      },
      {
       "output_type": "stream",
       "stream": "stdout",
       "text": [
        "  wGR=47 "
       ]
      },
      {
       "output_type": "stream",
       "stream": "stdout",
       "text": [
        "  wGR=48 "
       ]
      },
      {
       "output_type": "stream",
       "stream": "stdout",
       "text": [
        "  wGR=48 "
       ]
      },
      {
       "output_type": "stream",
       "stream": "stdout",
       "text": [
        "  wGR=49 "
       ]
      },
      {
       "output_type": "stream",
       "stream": "stdout",
       "text": [
        "  wGR=49 "
       ]
      },
      {
       "output_type": "stream",
       "stream": "stdout",
       "text": [
        "  wGR=50 "
       ]
      },
      {
       "output_type": "stream",
       "stream": "stdout",
       "text": [
        "  wGR=50 "
       ]
      },
      {
       "output_type": "stream",
       "stream": "stdout",
       "text": [
        "  wGR=51 "
       ]
      },
      {
       "output_type": "stream",
       "stream": "stdout",
       "text": [
        "  wGR=51 "
       ]
      },
      {
       "output_type": "stream",
       "stream": "stdout",
       "text": [
        "  wGR=52 "
       ]
      },
      {
       "output_type": "stream",
       "stream": "stdout",
       "text": [
        "  wGR=52 "
       ]
      },
      {
       "output_type": "stream",
       "stream": "stdout",
       "text": [
        "  wGR=53 "
       ]
      },
      {
       "output_type": "stream",
       "stream": "stdout",
       "text": [
        "  wGR=53 "
       ]
      },
      {
       "output_type": "stream",
       "stream": "stdout",
       "text": [
        "  wGR=54 "
       ]
      },
      {
       "output_type": "stream",
       "stream": "stdout",
       "text": [
        "  wGR=54 "
       ]
      },
      {
       "output_type": "stream",
       "stream": "stdout",
       "text": [
        "  wGR=55 "
       ]
      },
      {
       "output_type": "stream",
       "stream": "stdout",
       "text": [
        "  wGR=55 "
       ]
      },
      {
       "output_type": "stream",
       "stream": "stdout",
       "text": [
        "  wGR=56 "
       ]
      },
      {
       "output_type": "stream",
       "stream": "stdout",
       "text": [
        "  wGR=56 "
       ]
      },
      {
       "output_type": "stream",
       "stream": "stdout",
       "text": [
        "  wGR=57 "
       ]
      },
      {
       "output_type": "stream",
       "stream": "stdout",
       "text": [
        "  wGR=57 "
       ]
      },
      {
       "output_type": "stream",
       "stream": "stdout",
       "text": [
        "  wGR=58 "
       ]
      },
      {
       "output_type": "stream",
       "stream": "stdout",
       "text": [
        "  wGR=58 "
       ]
      },
      {
       "output_type": "stream",
       "stream": "stdout",
       "text": [
        "  wGR=59 "
       ]
      },
      {
       "output_type": "stream",
       "stream": "stdout",
       "text": [
        "  wGR=59 "
       ]
      },
      {
       "output_type": "stream",
       "stream": "stdout",
       "text": [
        "  wGR=60 "
       ]
      },
      {
       "output_type": "stream",
       "stream": "stdout",
       "text": [
        "  wGR=60 "
       ]
      },
      {
       "output_type": "stream",
       "stream": "stdout",
       "text": [
        "  wGR=61 "
       ]
      },
      {
       "output_type": "stream",
       "stream": "stdout",
       "text": [
        "  wGR=61 "
       ]
      },
      {
       "output_type": "stream",
       "stream": "stdout",
       "text": [
        "  wGR=62 "
       ]
      },
      {
       "output_type": "stream",
       "stream": "stdout",
       "text": [
        "  wGR=62 "
       ]
      },
      {
       "output_type": "stream",
       "stream": "stdout",
       "text": [
        "  wGR=63 "
       ]
      },
      {
       "output_type": "stream",
       "stream": "stdout",
       "text": [
        "  wGR=63 "
       ]
      },
      {
       "output_type": "stream",
       "stream": "stdout",
       "text": [
        "  wGR=64 "
       ]
      },
      {
       "output_type": "stream",
       "stream": "stdout",
       "text": [
        "  wGR=64 "
       ]
      },
      {
       "output_type": "stream",
       "stream": "stdout",
       "text": [
        "  wGR=65 "
       ]
      },
      {
       "output_type": "stream",
       "stream": "stdout",
       "text": [
        "  wGR=65 "
       ]
      },
      {
       "output_type": "stream",
       "stream": "stdout",
       "text": [
        "  wGR=66 "
       ]
      },
      {
       "output_type": "stream",
       "stream": "stdout",
       "text": [
        "  wGR=66 "
       ]
      },
      {
       "output_type": "stream",
       "stream": "stdout",
       "text": [
        "  wGR=67 "
       ]
      },
      {
       "output_type": "stream",
       "stream": "stdout",
       "text": [
        "  wGR=67 "
       ]
      },
      {
       "output_type": "stream",
       "stream": "stdout",
       "text": [
        "  wGR=68 "
       ]
      },
      {
       "output_type": "stream",
       "stream": "stdout",
       "text": [
        "  wGR=68 "
       ]
      },
      {
       "output_type": "stream",
       "stream": "stdout",
       "text": [
        "  wGR=69 "
       ]
      },
      {
       "output_type": "stream",
       "stream": "stdout",
       "text": [
        "  wGR=69 "
       ]
      },
      {
       "output_type": "stream",
       "stream": "stdout",
       "text": [
        "  wGR=70 "
       ]
      },
      {
       "output_type": "stream",
       "stream": "stdout",
       "text": [
        "  wGR=70 "
       ]
      },
      {
       "output_type": "stream",
       "stream": "stdout",
       "text": [
        "  wGR=71 "
       ]
      },
      {
       "output_type": "stream",
       "stream": "stdout",
       "text": [
        "  wGR=71\n"
       ]
      }
     ],
     "prompt_number": 46
    },
    {
     "cell_type": "markdown",
     "metadata": {},
     "source": [
      "We create a pandas data frame with the optimized data"
     ]
    },
    {
     "cell_type": "code",
     "collapsed": false,
     "input": [
      "import pandas as pd \n",
      "\n",
      "dat = np.loadtxt('alpha_opt/001.dat')\n",
      "df = pd.DataFrame( dat, columns=['v0', 'wIR', 'wGR', 'g0', 'EtaF', 'N', 'SN', 'HWHM', 'HWHMwL', 'DeltaF'])\n",
      "df['alpha'] = df['wIR'] / df['wGR'] \n",
      "\n",
      "df"
     ],
     "language": "python",
     "metadata": {},
     "outputs": [
      {
       "html": [
        "<div style=\"max-height:1000px;max-width:1500px;overflow:auto;\">\n",
        "<table border=\"1\" class=\"dataframe\">\n",
        "  <thead>\n",
        "    <tr style=\"text-align: right;\">\n",
        "      <th></th>\n",
        "      <th>v0</th>\n",
        "      <th>wIR</th>\n",
        "      <th>wGR</th>\n",
        "      <th>g0</th>\n",
        "      <th>EtaF</th>\n",
        "      <th>N</th>\n",
        "      <th>SN</th>\n",
        "      <th>HWHM</th>\n",
        "      <th>HWHMwL</th>\n",
        "      <th>DeltaF</th>\n",
        "      <th>alpha</th>\n",
        "    </tr>\n",
        "  </thead>\n",
        "  <tbody>\n",
        "    <tr>\n",
        "      <th>0 </th>\n",
        "      <td> 7</td>\n",
        "      <td> 47</td>\n",
        "      <td> 28.0</td>\n",
        "      <td> 1.964</td>\n",
        "      <td> 7.641</td>\n",
        "      <td>  216900</td>\n",
        "      <td> 1.624</td>\n",
        "      <td> 19.73</td>\n",
        "      <td> 0.4197</td>\n",
        "      <td> 4.8340</td>\n",
        "      <td> 1.678571</td>\n",
        "    </tr>\n",
        "    <tr>\n",
        "      <th>1 </th>\n",
        "      <td> 7</td>\n",
        "      <td> 47</td>\n",
        "      <td> 28.5</td>\n",
        "      <td> 2.034</td>\n",
        "      <td> 7.453</td>\n",
        "      <td>  226400</td>\n",
        "      <td> 1.626</td>\n",
        "      <td> 20.11</td>\n",
        "      <td> 0.4279</td>\n",
        "      <td> 4.6970</td>\n",
        "      <td> 1.649123</td>\n",
        "    </tr>\n",
        "    <tr>\n",
        "      <th>2 </th>\n",
        "      <td> 7</td>\n",
        "      <td> 47</td>\n",
        "      <td> 29.0</td>\n",
        "      <td> 2.106</td>\n",
        "      <td> 7.261</td>\n",
        "      <td>  236600</td>\n",
        "      <td> 1.628</td>\n",
        "      <td> 20.49</td>\n",
        "      <td> 0.4361</td>\n",
        "      <td> 4.5570</td>\n",
        "      <td> 1.620690</td>\n",
        "    </tr>\n",
        "    <tr>\n",
        "      <th>3 </th>\n",
        "      <td> 7</td>\n",
        "      <td> 47</td>\n",
        "      <td> 29.5</td>\n",
        "      <td> 2.179</td>\n",
        "      <td> 7.065</td>\n",
        "      <td>  247600</td>\n",
        "      <td> 1.629</td>\n",
        "      <td> 20.49</td>\n",
        "      <td> 0.4361</td>\n",
        "      <td> 4.4140</td>\n",
        "      <td> 1.593220</td>\n",
        "    </tr>\n",
        "    <tr>\n",
        "      <th>4 </th>\n",
        "      <td> 7</td>\n",
        "      <td> 47</td>\n",
        "      <td> 30.0</td>\n",
        "      <td> 2.254</td>\n",
        "      <td> 6.865</td>\n",
        "      <td>  259300</td>\n",
        "      <td> 1.631</td>\n",
        "      <td> 20.88</td>\n",
        "      <td> 0.4442</td>\n",
        "      <td> 4.2690</td>\n",
        "      <td> 1.566667</td>\n",
        "    </tr>\n",
        "    <tr>\n",
        "      <th>5 </th>\n",
        "      <td> 7</td>\n",
        "      <td> 47</td>\n",
        "      <td> 30.5</td>\n",
        "      <td> 2.330</td>\n",
        "      <td> 6.661</td>\n",
        "      <td>  271700</td>\n",
        "      <td> 1.633</td>\n",
        "      <td> 21.26</td>\n",
        "      <td> 0.4524</td>\n",
        "      <td> 4.1200</td>\n",
        "      <td> 1.540984</td>\n",
        "    </tr>\n",
        "    <tr>\n",
        "      <th>6 </th>\n",
        "      <td> 7</td>\n",
        "      <td> 47</td>\n",
        "      <td> 31.0</td>\n",
        "      <td> 2.407</td>\n",
        "      <td> 6.454</td>\n",
        "      <td>  285000</td>\n",
        "      <td> 1.635</td>\n",
        "      <td> 21.64</td>\n",
        "      <td> 0.4605</td>\n",
        "      <td> 3.9690</td>\n",
        "      <td> 1.516129</td>\n",
        "    </tr>\n",
        "    <tr>\n",
        "      <th>7 </th>\n",
        "      <td> 7</td>\n",
        "      <td> 47</td>\n",
        "      <td> 31.5</td>\n",
        "      <td> 2.485</td>\n",
        "      <td> 6.243</td>\n",
        "      <td>  299200</td>\n",
        "      <td> 1.638</td>\n",
        "      <td> 22.03</td>\n",
        "      <td> 0.4687</td>\n",
        "      <td> 3.8160</td>\n",
        "      <td> 1.492063</td>\n",
        "    </tr>\n",
        "    <tr>\n",
        "      <th>8 </th>\n",
        "      <td> 7</td>\n",
        "      <td> 47</td>\n",
        "      <td> 32.0</td>\n",
        "      <td> 2.564</td>\n",
        "      <td> 6.028</td>\n",
        "      <td>  314500</td>\n",
        "      <td> 1.640</td>\n",
        "      <td> 22.41</td>\n",
        "      <td> 0.4768</td>\n",
        "      <td> 3.6600</td>\n",
        "      <td> 1.468750</td>\n",
        "    </tr>\n",
        "    <tr>\n",
        "      <th>9 </th>\n",
        "      <td> 7</td>\n",
        "      <td> 47</td>\n",
        "      <td> 32.5</td>\n",
        "      <td> 2.658</td>\n",
        "      <td> 5.770</td>\n",
        "      <td>  340400</td>\n",
        "      <td> 1.635</td>\n",
        "      <td> 22.79</td>\n",
        "      <td> 0.4850</td>\n",
        "      <td> 3.4740</td>\n",
        "      <td> 1.446154</td>\n",
        "    </tr>\n",
        "    <tr>\n",
        "      <th>10</th>\n",
        "      <td> 7</td>\n",
        "      <td> 47</td>\n",
        "      <td> 33.0</td>\n",
        "      <td> 2.740</td>\n",
        "      <td> 5.549</td>\n",
        "      <td>  358900</td>\n",
        "      <td> 1.638</td>\n",
        "      <td> 23.18</td>\n",
        "      <td> 0.4931</td>\n",
        "      <td> 3.3120</td>\n",
        "      <td> 1.424242</td>\n",
        "    </tr>\n",
        "    <tr>\n",
        "      <th>11</th>\n",
        "      <td> 7</td>\n",
        "      <td> 47</td>\n",
        "      <td> 33.5</td>\n",
        "      <td> 2.824</td>\n",
        "      <td> 5.324</td>\n",
        "      <td>  379000</td>\n",
        "      <td> 1.641</td>\n",
        "      <td> 23.56</td>\n",
        "      <td> 0.5013</td>\n",
        "      <td> 3.1490</td>\n",
        "      <td> 1.402985</td>\n",
        "    </tr>\n",
        "    <tr>\n",
        "      <th>12</th>\n",
        "      <td> 7</td>\n",
        "      <td> 47</td>\n",
        "      <td> 34.0</td>\n",
        "      <td> 2.908</td>\n",
        "      <td> 5.095</td>\n",
        "      <td>  400900</td>\n",
        "      <td> 1.645</td>\n",
        "      <td> 24.33</td>\n",
        "      <td> 0.5176</td>\n",
        "      <td> 2.9820</td>\n",
        "      <td> 1.382353</td>\n",
        "    </tr>\n",
        "    <tr>\n",
        "      <th>13</th>\n",
        "      <td> 7</td>\n",
        "      <td> 47</td>\n",
        "      <td> 34.5</td>\n",
        "      <td> 2.994</td>\n",
        "      <td> 4.862</td>\n",
        "      <td>  425100</td>\n",
        "      <td> 1.649</td>\n",
        "      <td> 24.71</td>\n",
        "      <td> 0.5257</td>\n",
        "      <td> 2.8130</td>\n",
        "      <td> 1.362319</td>\n",
        "    </tr>\n",
        "    <tr>\n",
        "      <th>14</th>\n",
        "      <td> 7</td>\n",
        "      <td> 47</td>\n",
        "      <td> 35.0</td>\n",
        "      <td> 3.081</td>\n",
        "      <td> 4.627</td>\n",
        "      <td>  451800</td>\n",
        "      <td> 1.654</td>\n",
        "      <td> 25.09</td>\n",
        "      <td> 0.5339</td>\n",
        "      <td> 2.6410</td>\n",
        "      <td> 1.342857</td>\n",
        "    </tr>\n",
        "    <tr>\n",
        "      <th>15</th>\n",
        "      <td> 7</td>\n",
        "      <td> 47</td>\n",
        "      <td> 35.5</td>\n",
        "      <td> 3.169</td>\n",
        "      <td> 4.387</td>\n",
        "      <td>  481600</td>\n",
        "      <td> 1.659</td>\n",
        "      <td> 25.47</td>\n",
        "      <td> 0.5420</td>\n",
        "      <td> 2.4670</td>\n",
        "      <td> 1.323944</td>\n",
        "    </tr>\n",
        "    <tr>\n",
        "      <th>16</th>\n",
        "      <td> 7</td>\n",
        "      <td> 47</td>\n",
        "      <td> 36.0</td>\n",
        "      <td> 3.259</td>\n",
        "      <td> 4.144</td>\n",
        "      <td>  514900</td>\n",
        "      <td> 1.665</td>\n",
        "      <td> 26.24</td>\n",
        "      <td> 0.5583</td>\n",
        "      <td> 2.2900</td>\n",
        "      <td> 1.305556</td>\n",
        "    </tr>\n",
        "    <tr>\n",
        "      <th>17</th>\n",
        "      <td> 7</td>\n",
        "      <td> 47</td>\n",
        "      <td> 36.5</td>\n",
        "      <td> 3.350</td>\n",
        "      <td> 3.898</td>\n",
        "      <td>  552600</td>\n",
        "      <td> 1.671</td>\n",
        "      <td> 26.70</td>\n",
        "      <td> 0.5682</td>\n",
        "      <td> 2.1100</td>\n",
        "      <td> 1.287671</td>\n",
        "    </tr>\n",
        "    <tr>\n",
        "      <th>18</th>\n",
        "      <td> 7</td>\n",
        "      <td> 47</td>\n",
        "      <td> 37.0</td>\n",
        "      <td> 3.442</td>\n",
        "      <td> 3.647</td>\n",
        "      <td>  595900</td>\n",
        "      <td> 1.678</td>\n",
        "      <td> 27.56</td>\n",
        "      <td> 0.5864</td>\n",
        "      <td> 1.9280</td>\n",
        "      <td> 1.270270</td>\n",
        "    </tr>\n",
        "    <tr>\n",
        "      <th>19</th>\n",
        "      <td> 7</td>\n",
        "      <td> 47</td>\n",
        "      <td> 37.5</td>\n",
        "      <td> 3.535</td>\n",
        "      <td> 3.392</td>\n",
        "      <td>  646300</td>\n",
        "      <td> 1.687</td>\n",
        "      <td> 27.99</td>\n",
        "      <td> 0.5955</td>\n",
        "      <td> 1.7420</td>\n",
        "      <td> 1.253333</td>\n",
        "    </tr>\n",
        "    <tr>\n",
        "      <th>20</th>\n",
        "      <td> 7</td>\n",
        "      <td> 47</td>\n",
        "      <td> 38.0</td>\n",
        "      <td> 3.630</td>\n",
        "      <td> 3.134</td>\n",
        "      <td>  705500</td>\n",
        "      <td> 1.696</td>\n",
        "      <td> 28.84</td>\n",
        "      <td> 0.6136</td>\n",
        "      <td> 1.5540</td>\n",
        "      <td> 1.236842</td>\n",
        "    </tr>\n",
        "    <tr>\n",
        "      <th>21</th>\n",
        "      <td> 7</td>\n",
        "      <td> 47</td>\n",
        "      <td> 38.5</td>\n",
        "      <td> 3.726</td>\n",
        "      <td> 2.872</td>\n",
        "      <td>  776000</td>\n",
        "      <td> 1.708</td>\n",
        "      <td> 29.70</td>\n",
        "      <td> 0.6318</td>\n",
        "      <td> 1.3640</td>\n",
        "      <td> 1.220779</td>\n",
        "    </tr>\n",
        "    <tr>\n",
        "      <th>22</th>\n",
        "      <td> 7</td>\n",
        "      <td> 47</td>\n",
        "      <td> 39.0</td>\n",
        "      <td> 3.824</td>\n",
        "      <td> 2.607</td>\n",
        "      <td>  862000</td>\n",
        "      <td> 1.723</td>\n",
        "      <td> 30.55</td>\n",
        "      <td> 0.6500</td>\n",
        "      <td> 1.1710</td>\n",
        "      <td> 1.205128</td>\n",
        "    </tr>\n",
        "    <tr>\n",
        "      <th>23</th>\n",
        "      <td> 7</td>\n",
        "      <td> 47</td>\n",
        "      <td> 39.5</td>\n",
        "      <td> 3.907</td>\n",
        "      <td> 2.382</td>\n",
        "      <td>  925800</td>\n",
        "      <td> 1.752</td>\n",
        "      <td> 31.16</td>\n",
        "      <td> 0.6630</td>\n",
        "      <td> 1.0060</td>\n",
        "      <td> 1.189873</td>\n",
        "    </tr>\n",
        "    <tr>\n",
        "      <th>24</th>\n",
        "      <td> 7</td>\n",
        "      <td> 47</td>\n",
        "      <td> 40.0</td>\n",
        "      <td> 4.007</td>\n",
        "      <td> 2.111</td>\n",
        "      <td> 1054000</td>\n",
        "      <td> 1.775</td>\n",
        "      <td> 32.49</td>\n",
        "      <td> 0.6912</td>\n",
        "      <td> 0.8085</td>\n",
        "      <td> 1.175000</td>\n",
        "    </tr>\n",
        "    <tr>\n",
        "      <th>25</th>\n",
        "      <td> 7</td>\n",
        "      <td> 47</td>\n",
        "      <td> 40.5</td>\n",
        "      <td> 4.107</td>\n",
        "      <td> 1.836</td>\n",
        "      <td> 1224000</td>\n",
        "      <td> 1.806</td>\n",
        "      <td> 33.81</td>\n",
        "      <td> 0.7194</td>\n",
        "      <td> 0.6084</td>\n",
        "      <td> 1.160494</td>\n",
        "    </tr>\n",
        "    <tr>\n",
        "      <th>26</th>\n",
        "      <td> 7</td>\n",
        "      <td> 47</td>\n",
        "      <td> 41.0</td>\n",
        "      <td> 4.210</td>\n",
        "      <td> 1.557</td>\n",
        "      <td> 1464000</td>\n",
        "      <td> 1.845</td>\n",
        "      <td> 36.02</td>\n",
        "      <td> 0.7665</td>\n",
        "      <td> 0.4058</td>\n",
        "      <td> 1.146341</td>\n",
        "    </tr>\n",
        "    <tr>\n",
        "      <th>27</th>\n",
        "      <td> 7</td>\n",
        "      <td> 47</td>\n",
        "      <td> 41.5</td>\n",
        "      <td> 4.268</td>\n",
        "      <td> 1.401</td>\n",
        "      <td> 1510000</td>\n",
        "      <td> 1.929</td>\n",
        "      <td> 35.58</td>\n",
        "      <td> 0.7571</td>\n",
        "      <td> 0.2915</td>\n",
        "      <td> 1.132530</td>\n",
        "    </tr>\n",
        "    <tr>\n",
        "      <th>28</th>\n",
        "      <td> 7</td>\n",
        "      <td> 47</td>\n",
        "      <td> 42.0</td>\n",
        "      <td> 4.270</td>\n",
        "      <td> 1.397</td>\n",
        "      <td> 1236000</td>\n",
        "      <td> 2.061</td>\n",
        "      <td> 32.93</td>\n",
        "      <td> 0.7006</td>\n",
        "      <td> 0.2889</td>\n",
        "      <td> 1.119048</td>\n",
        "    </tr>\n",
        "    <tr>\n",
        "      <th>29</th>\n",
        "      <td> 7</td>\n",
        "      <td> 47</td>\n",
        "      <td> 42.5</td>\n",
        "      <td> 4.268</td>\n",
        "      <td> 1.405</td>\n",
        "      <td>  982500</td>\n",
        "      <td> 2.187</td>\n",
        "      <td> 29.84</td>\n",
        "      <td> 0.6348</td>\n",
        "      <td> 0.2951</td>\n",
        "      <td> 1.105882</td>\n",
        "    </tr>\n",
        "    <tr>\n",
        "      <th>30</th>\n",
        "      <td> 7</td>\n",
        "      <td> 47</td>\n",
        "      <td> 43.0</td>\n",
        "      <td> 4.274</td>\n",
        "      <td> 1.393</td>\n",
        "      <td>  801600</td>\n",
        "      <td> 2.296</td>\n",
        "      <td> 27.18</td>\n",
        "      <td> 0.5784</td>\n",
        "      <td> 0.2859</td>\n",
        "      <td> 1.093023</td>\n",
        "    </tr>\n",
        "    <tr>\n",
        "      <th>31</th>\n",
        "      <td> 7</td>\n",
        "      <td> 47</td>\n",
        "      <td> 43.5</td>\n",
        "      <td> 4.273</td>\n",
        "      <td> 1.398</td>\n",
        "      <td>  637700</td>\n",
        "      <td> 2.380</td>\n",
        "      <td> 24.97</td>\n",
        "      <td> 0.5313</td>\n",
        "      <td> 0.2898</td>\n",
        "      <td> 1.080460</td>\n",
        "    </tr>\n",
        "    <tr>\n",
        "      <th>32</th>\n",
        "      <td> 7</td>\n",
        "      <td> 47</td>\n",
        "      <td> 44.0</td>\n",
        "      <td> 4.277</td>\n",
        "      <td> 1.390</td>\n",
        "      <td>  519800</td>\n",
        "      <td> 2.441</td>\n",
        "      <td> 23.65</td>\n",
        "      <td> 0.5031</td>\n",
        "      <td> 0.2840</td>\n",
        "      <td> 1.068182</td>\n",
        "    </tr>\n",
        "    <tr>\n",
        "      <th>33</th>\n",
        "      <td> 7</td>\n",
        "      <td> 47</td>\n",
        "      <td> 44.5</td>\n",
        "      <td> 4.279</td>\n",
        "      <td> 1.389</td>\n",
        "      <td>  424500</td>\n",
        "      <td> 2.473</td>\n",
        "      <td> 21.88</td>\n",
        "      <td> 0.4655</td>\n",
        "      <td> 0.2829</td>\n",
        "      <td> 1.056180</td>\n",
        "    </tr>\n",
        "    <tr>\n",
        "      <th>34</th>\n",
        "      <td> 7</td>\n",
        "      <td> 47</td>\n",
        "      <td> 45.0</td>\n",
        "      <td> 4.271</td>\n",
        "      <td> 1.412</td>\n",
        "      <td>  341600</td>\n",
        "      <td> 2.454</td>\n",
        "      <td> 20.72</td>\n",
        "      <td> 0.4409</td>\n",
        "      <td> 0.3002</td>\n",
        "      <td> 1.044444</td>\n",
        "    </tr>\n",
        "    <tr>\n",
        "      <th>35</th>\n",
        "      <td> 7</td>\n",
        "      <td> 47</td>\n",
        "      <td> 45.5</td>\n",
        "      <td> 4.280</td>\n",
        "      <td> 1.390</td>\n",
        "      <td>  293300</td>\n",
        "      <td> 2.456</td>\n",
        "      <td> 19.44</td>\n",
        "      <td> 0.4136</td>\n",
        "      <td> 0.2836</td>\n",
        "      <td> 1.032967</td>\n",
        "    </tr>\n",
        "    <tr>\n",
        "      <th>36</th>\n",
        "      <td> 7</td>\n",
        "      <td> 47</td>\n",
        "      <td> 46.0</td>\n",
        "      <td> 4.266</td>\n",
        "      <td> 1.432</td>\n",
        "      <td>  241500</td>\n",
        "      <td> 2.406</td>\n",
        "      <td> 18.59</td>\n",
        "      <td> 0.3955</td>\n",
        "      <td> 0.3143</td>\n",
        "      <td> 1.021739</td>\n",
        "    </tr>\n",
        "    <tr>\n",
        "      <th>37</th>\n",
        "      <td> 7</td>\n",
        "      <td> 47</td>\n",
        "      <td> 46.5</td>\n",
        "      <td> 4.264</td>\n",
        "      <td> 1.439</td>\n",
        "      <td>  208500</td>\n",
        "      <td> 2.372</td>\n",
        "      <td> 17.73</td>\n",
        "      <td> 0.3773</td>\n",
        "      <td> 0.3197</td>\n",
        "      <td> 1.010753</td>\n",
        "    </tr>\n",
        "    <tr>\n",
        "      <th>38</th>\n",
        "      <td> 7</td>\n",
        "      <td> 47</td>\n",
        "      <td> 47.0</td>\n",
        "      <td> 4.304</td>\n",
        "      <td> 1.414</td>\n",
        "      <td>  196500</td>\n",
        "      <td> 2.383</td>\n",
        "      <td> 17.53</td>\n",
        "      <td> 0.3730</td>\n",
        "      <td> 0.3010</td>\n",
        "      <td> 1.000000</td>\n",
        "    </tr>\n",
        "    <tr>\n",
        "      <th>39</th>\n",
        "      <td> 7</td>\n",
        "      <td> 47</td>\n",
        "      <td> 47.5</td>\n",
        "      <td> 4.304</td>\n",
        "      <td> 1.497</td>\n",
        "      <td>  173400</td>\n",
        "      <td> 2.344</td>\n",
        "      <td> 16.71</td>\n",
        "      <td> 0.3555</td>\n",
        "      <td> 0.3616</td>\n",
        "      <td> 0.989474</td>\n",
        "    </tr>\n",
        "    <tr>\n",
        "      <th>40</th>\n",
        "      <td> 7</td>\n",
        "      <td> 47</td>\n",
        "      <td> 48.0</td>\n",
        "      <td> 4.304</td>\n",
        "      <td> 1.588</td>\n",
        "      <td>  154800</td>\n",
        "      <td> 2.307</td>\n",
        "      <td> 16.30</td>\n",
        "      <td> 0.3467</td>\n",
        "      <td> 0.4279</td>\n",
        "      <td> 0.979167</td>\n",
        "    </tr>\n",
        "    <tr>\n",
        "      <th>41</th>\n",
        "      <td> 7</td>\n",
        "      <td> 47</td>\n",
        "      <td> 48.5</td>\n",
        "      <td> 4.304</td>\n",
        "      <td> 1.678</td>\n",
        "      <td>  139700</td>\n",
        "      <td> 2.274</td>\n",
        "      <td> 15.88</td>\n",
        "      <td> 0.3379</td>\n",
        "      <td> 0.4935</td>\n",
        "      <td> 0.969072</td>\n",
        "    </tr>\n",
        "    <tr>\n",
        "      <th>42</th>\n",
        "      <td> 7</td>\n",
        "      <td> 47</td>\n",
        "      <td> 49.0</td>\n",
        "      <td> 4.304</td>\n",
        "      <td> 1.767</td>\n",
        "      <td>  127300</td>\n",
        "      <td> 2.244</td>\n",
        "      <td> 15.47</td>\n",
        "      <td> 0.3292</td>\n",
        "      <td> 0.5585</td>\n",
        "      <td> 0.959184</td>\n",
        "    </tr>\n",
        "    <tr>\n",
        "      <th>43</th>\n",
        "      <td> 7</td>\n",
        "      <td> 47</td>\n",
        "      <td> 49.5</td>\n",
        "      <td> 4.304</td>\n",
        "      <td> 1.856</td>\n",
        "      <td>  116600</td>\n",
        "      <td> 2.207</td>\n",
        "      <td> 15.13</td>\n",
        "      <td> 0.3219</td>\n",
        "      <td> 0.6227</td>\n",
        "      <td> 0.949495</td>\n",
        "    </tr>\n",
        "    <tr>\n",
        "      <th>44</th>\n",
        "      <td> 7</td>\n",
        "      <td> 47</td>\n",
        "      <td> 50.0</td>\n",
        "      <td> 4.304</td>\n",
        "      <td> 1.943</td>\n",
        "      <td>  107900</td>\n",
        "      <td> 2.187</td>\n",
        "      <td> 14.75</td>\n",
        "      <td> 0.3138</td>\n",
        "      <td> 0.6861</td>\n",
        "      <td> 0.940000</td>\n",
        "    </tr>\n",
        "    <tr>\n",
        "      <th>45</th>\n",
        "      <td> 7</td>\n",
        "      <td> 47</td>\n",
        "      <td> 50.5</td>\n",
        "      <td> 4.304</td>\n",
        "      <td> 2.029</td>\n",
        "      <td>  100300</td>\n",
        "      <td> 2.171</td>\n",
        "      <td> 14.37</td>\n",
        "      <td> 0.3056</td>\n",
        "      <td> 0.7489</td>\n",
        "      <td> 0.930693</td>\n",
        "    </tr>\n",
        "    <tr>\n",
        "      <th>46</th>\n",
        "      <td> 7</td>\n",
        "      <td> 47</td>\n",
        "      <td> 51.0</td>\n",
        "      <td> 4.304</td>\n",
        "      <td> 2.114</td>\n",
        "      <td>   93830</td>\n",
        "      <td> 2.156</td>\n",
        "      <td> 13.98</td>\n",
        "      <td> 0.2975</td>\n",
        "      <td> 0.8109</td>\n",
        "      <td> 0.921569</td>\n",
        "    </tr>\n",
        "    <tr>\n",
        "      <th>47</th>\n",
        "      <td> 7</td>\n",
        "      <td> 47</td>\n",
        "      <td> 51.5</td>\n",
        "      <td> 4.304</td>\n",
        "      <td> 2.198</td>\n",
        "      <td>   88160</td>\n",
        "      <td> 2.144</td>\n",
        "      <td> 13.98</td>\n",
        "      <td> 0.2975</td>\n",
        "      <td> 0.8721</td>\n",
        "      <td> 0.912621</td>\n",
        "    </tr>\n",
        "    <tr>\n",
        "      <th>48</th>\n",
        "      <td> 7</td>\n",
        "      <td> 47</td>\n",
        "      <td> 52.0</td>\n",
        "      <td> 4.304</td>\n",
        "      <td> 2.281</td>\n",
        "      <td>   83180</td>\n",
        "      <td> 2.134</td>\n",
        "      <td> 13.60</td>\n",
        "      <td> 0.2893</td>\n",
        "      <td> 0.9326</td>\n",
        "      <td> 0.903846</td>\n",
        "    </tr>\n",
        "    <tr>\n",
        "      <th>49</th>\n",
        "      <td> 7</td>\n",
        "      <td> 47</td>\n",
        "      <td> 52.5</td>\n",
        "      <td> 4.304</td>\n",
        "      <td> 2.364</td>\n",
        "      <td>   78770</td>\n",
        "      <td> 2.123</td>\n",
        "      <td> 13.26</td>\n",
        "      <td> 0.2821</td>\n",
        "      <td> 0.9924</td>\n",
        "      <td> 0.895238</td>\n",
        "    </tr>\n",
        "    <tr>\n",
        "      <th>50</th>\n",
        "      <td> 7</td>\n",
        "      <td> 47</td>\n",
        "      <td> 53.0</td>\n",
        "      <td> 4.304</td>\n",
        "      <td> 2.445</td>\n",
        "      <td>   74850</td>\n",
        "      <td> 2.116</td>\n",
        "      <td> 13.26</td>\n",
        "      <td> 0.2821</td>\n",
        "      <td> 1.0510</td>\n",
        "      <td> 0.886792</td>\n",
        "    </tr>\n",
        "    <tr>\n",
        "      <th>51</th>\n",
        "      <td> 7</td>\n",
        "      <td> 47</td>\n",
        "      <td> 53.5</td>\n",
        "      <td> 4.304</td>\n",
        "      <td> 2.525</td>\n",
        "      <td>   71340</td>\n",
        "      <td> 2.109</td>\n",
        "      <td> 12.91</td>\n",
        "      <td> 0.2746</td>\n",
        "      <td> 1.1100</td>\n",
        "      <td> 0.878505</td>\n",
        "    </tr>\n",
        "    <tr>\n",
        "      <th>52</th>\n",
        "      <td> 7</td>\n",
        "      <td> 47</td>\n",
        "      <td> 54.0</td>\n",
        "      <td> 4.304</td>\n",
        "      <td> 2.604</td>\n",
        "      <td>   68190</td>\n",
        "      <td> 2.104</td>\n",
        "      <td> 12.91</td>\n",
        "      <td> 0.2746</td>\n",
        "      <td> 1.1670</td>\n",
        "      <td> 0.870370</td>\n",
        "    </tr>\n",
        "    <tr>\n",
        "      <th>53</th>\n",
        "      <td> 7</td>\n",
        "      <td> 47</td>\n",
        "      <td> 54.5</td>\n",
        "      <td> 4.304</td>\n",
        "      <td> 2.681</td>\n",
        "      <td>   65340</td>\n",
        "      <td> 2.099</td>\n",
        "      <td> 12.55</td>\n",
        "      <td> 0.2671</td>\n",
        "      <td> 1.2240</td>\n",
        "      <td> 0.862385</td>\n",
        "    </tr>\n",
        "    <tr>\n",
        "      <th>54</th>\n",
        "      <td> 7</td>\n",
        "      <td> 47</td>\n",
        "      <td> 55.0</td>\n",
        "      <td> 4.304</td>\n",
        "      <td> 2.758</td>\n",
        "      <td>   62750</td>\n",
        "      <td> 2.094</td>\n",
        "      <td> 12.55</td>\n",
        "      <td> 0.2671</td>\n",
        "      <td> 1.2800</td>\n",
        "      <td> 0.854545</td>\n",
        "    </tr>\n",
        "    <tr>\n",
        "      <th>55</th>\n",
        "      <td> 7</td>\n",
        "      <td> 47</td>\n",
        "      <td> 55.5</td>\n",
        "      <td> 4.304</td>\n",
        "      <td> 2.834</td>\n",
        "      <td>   60380</td>\n",
        "      <td> 2.090</td>\n",
        "      <td> 12.16</td>\n",
        "      <td> 0.2586</td>\n",
        "      <td> 1.3350</td>\n",
        "      <td> 0.846847</td>\n",
        "    </tr>\n",
        "    <tr>\n",
        "      <th>56</th>\n",
        "      <td> 7</td>\n",
        "      <td> 47</td>\n",
        "      <td> 56.0</td>\n",
        "      <td> 4.304</td>\n",
        "      <td> 2.909</td>\n",
        "      <td>   58220</td>\n",
        "      <td> 2.086</td>\n",
        "      <td> 12.16</td>\n",
        "      <td> 0.2586</td>\n",
        "      <td> 1.3890</td>\n",
        "      <td> 0.839286</td>\n",
        "    </tr>\n",
        "    <tr>\n",
        "      <th>57</th>\n",
        "      <td> 7</td>\n",
        "      <td> 47</td>\n",
        "      <td> 56.5</td>\n",
        "      <td> 4.304</td>\n",
        "      <td> 2.983</td>\n",
        "      <td>   56240</td>\n",
        "      <td> 2.082</td>\n",
        "      <td> 12.16</td>\n",
        "      <td> 0.2586</td>\n",
        "      <td> 1.4430</td>\n",
        "      <td> 0.831858</td>\n",
        "    </tr>\n",
        "    <tr>\n",
        "      <th>58</th>\n",
        "      <td> 7</td>\n",
        "      <td> 47</td>\n",
        "      <td> 57.0</td>\n",
        "      <td> 4.304</td>\n",
        "      <td> 3.056</td>\n",
        "      <td>   54420</td>\n",
        "      <td> 2.079</td>\n",
        "      <td> 11.83</td>\n",
        "      <td> 0.2517</td>\n",
        "      <td> 1.4960</td>\n",
        "      <td> 0.824561</td>\n",
        "    </tr>\n",
        "    <tr>\n",
        "      <th>59</th>\n",
        "      <td> 7</td>\n",
        "      <td> 47</td>\n",
        "      <td> 57.5</td>\n",
        "      <td> 4.304</td>\n",
        "      <td> 3.128</td>\n",
        "      <td>   52730</td>\n",
        "      <td> 2.076</td>\n",
        "      <td> 11.83</td>\n",
        "      <td> 0.2517</td>\n",
        "      <td> 1.5480</td>\n",
        "      <td> 0.817391</td>\n",
        "    </tr>\n",
        "    <tr>\n",
        "      <th></th>\n",
        "      <td>...</td>\n",
        "      <td>...</td>\n",
        "      <td>...</td>\n",
        "      <td>...</td>\n",
        "      <td>...</td>\n",
        "      <td>...</td>\n",
        "      <td>...</td>\n",
        "      <td>...</td>\n",
        "      <td>...</td>\n",
        "      <td>...</td>\n",
        "      <td>...</td>\n",
        "    </tr>\n",
        "  </tbody>\n",
        "</table>\n",
        "<p>88 rows \u00d7 11 columns</p>\n",
        "</div>"
       ],
       "metadata": {},
       "output_type": "pyout",
       "prompt_number": 47,
       "text": [
        "    v0  wIR   wGR     g0   EtaF        N     SN   HWHM  HWHMwL  DeltaF  \\\n",
        "0    7   47  28.0  1.964  7.641   216900  1.624  19.73  0.4197  4.8340   \n",
        "1    7   47  28.5  2.034  7.453   226400  1.626  20.11  0.4279  4.6970   \n",
        "2    7   47  29.0  2.106  7.261   236600  1.628  20.49  0.4361  4.5570   \n",
        "3    7   47  29.5  2.179  7.065   247600  1.629  20.49  0.4361  4.4140   \n",
        "4    7   47  30.0  2.254  6.865   259300  1.631  20.88  0.4442  4.2690   \n",
        "5    7   47  30.5  2.330  6.661   271700  1.633  21.26  0.4524  4.1200   \n",
        "6    7   47  31.0  2.407  6.454   285000  1.635  21.64  0.4605  3.9690   \n",
        "7    7   47  31.5  2.485  6.243   299200  1.638  22.03  0.4687  3.8160   \n",
        "8    7   47  32.0  2.564  6.028   314500  1.640  22.41  0.4768  3.6600   \n",
        "9    7   47  32.5  2.658  5.770   340400  1.635  22.79  0.4850  3.4740   \n",
        "10   7   47  33.0  2.740  5.549   358900  1.638  23.18  0.4931  3.3120   \n",
        "11   7   47  33.5  2.824  5.324   379000  1.641  23.56  0.5013  3.1490   \n",
        "12   7   47  34.0  2.908  5.095   400900  1.645  24.33  0.5176  2.9820   \n",
        "13   7   47  34.5  2.994  4.862   425100  1.649  24.71  0.5257  2.8130   \n",
        "14   7   47  35.0  3.081  4.627   451800  1.654  25.09  0.5339  2.6410   \n",
        "15   7   47  35.5  3.169  4.387   481600  1.659  25.47  0.5420  2.4670   \n",
        "16   7   47  36.0  3.259  4.144   514900  1.665  26.24  0.5583  2.2900   \n",
        "17   7   47  36.5  3.350  3.898   552600  1.671  26.70  0.5682  2.1100   \n",
        "18   7   47  37.0  3.442  3.647   595900  1.678  27.56  0.5864  1.9280   \n",
        "19   7   47  37.5  3.535  3.392   646300  1.687  27.99  0.5955  1.7420   \n",
        "20   7   47  38.0  3.630  3.134   705500  1.696  28.84  0.6136  1.5540   \n",
        "21   7   47  38.5  3.726  2.872   776000  1.708  29.70  0.6318  1.3640   \n",
        "22   7   47  39.0  3.824  2.607   862000  1.723  30.55  0.6500  1.1710   \n",
        "23   7   47  39.5  3.907  2.382   925800  1.752  31.16  0.6630  1.0060   \n",
        "24   7   47  40.0  4.007  2.111  1054000  1.775  32.49  0.6912  0.8085   \n",
        "25   7   47  40.5  4.107  1.836  1224000  1.806  33.81  0.7194  0.6084   \n",
        "26   7   47  41.0  4.210  1.557  1464000  1.845  36.02  0.7665  0.4058   \n",
        "27   7   47  41.5  4.268  1.401  1510000  1.929  35.58  0.7571  0.2915   \n",
        "28   7   47  42.0  4.270  1.397  1236000  2.061  32.93  0.7006  0.2889   \n",
        "29   7   47  42.5  4.268  1.405   982500  2.187  29.84  0.6348  0.2951   \n",
        "30   7   47  43.0  4.274  1.393   801600  2.296  27.18  0.5784  0.2859   \n",
        "31   7   47  43.5  4.273  1.398   637700  2.380  24.97  0.5313  0.2898   \n",
        "32   7   47  44.0  4.277  1.390   519800  2.441  23.65  0.5031  0.2840   \n",
        "33   7   47  44.5  4.279  1.389   424500  2.473  21.88  0.4655  0.2829   \n",
        "34   7   47  45.0  4.271  1.412   341600  2.454  20.72  0.4409  0.3002   \n",
        "35   7   47  45.5  4.280  1.390   293300  2.456  19.44  0.4136  0.2836   \n",
        "36   7   47  46.0  4.266  1.432   241500  2.406  18.59  0.3955  0.3143   \n",
        "37   7   47  46.5  4.264  1.439   208500  2.372  17.73  0.3773  0.3197   \n",
        "38   7   47  47.0  4.304  1.414   196500  2.383  17.53  0.3730  0.3010   \n",
        "39   7   47  47.5  4.304  1.497   173400  2.344  16.71  0.3555  0.3616   \n",
        "40   7   47  48.0  4.304  1.588   154800  2.307  16.30  0.3467  0.4279   \n",
        "41   7   47  48.5  4.304  1.678   139700  2.274  15.88  0.3379  0.4935   \n",
        "42   7   47  49.0  4.304  1.767   127300  2.244  15.47  0.3292  0.5585   \n",
        "43   7   47  49.5  4.304  1.856   116600  2.207  15.13  0.3219  0.6227   \n",
        "44   7   47  50.0  4.304  1.943   107900  2.187  14.75  0.3138  0.6861   \n",
        "45   7   47  50.5  4.304  2.029   100300  2.171  14.37  0.3056  0.7489   \n",
        "46   7   47  51.0  4.304  2.114    93830  2.156  13.98  0.2975  0.8109   \n",
        "47   7   47  51.5  4.304  2.198    88160  2.144  13.98  0.2975  0.8721   \n",
        "48   7   47  52.0  4.304  2.281    83180  2.134  13.60  0.2893  0.9326   \n",
        "49   7   47  52.5  4.304  2.364    78770  2.123  13.26  0.2821  0.9924   \n",
        "50   7   47  53.0  4.304  2.445    74850  2.116  13.26  0.2821  1.0510   \n",
        "51   7   47  53.5  4.304  2.525    71340  2.109  12.91  0.2746  1.1100   \n",
        "52   7   47  54.0  4.304  2.604    68190  2.104  12.91  0.2746  1.1670   \n",
        "53   7   47  54.5  4.304  2.681    65340  2.099  12.55  0.2671  1.2240   \n",
        "54   7   47  55.0  4.304  2.758    62750  2.094  12.55  0.2671  1.2800   \n",
        "55   7   47  55.5  4.304  2.834    60380  2.090  12.16  0.2586  1.3350   \n",
        "56   7   47  56.0  4.304  2.909    58220  2.086  12.16  0.2586  1.3890   \n",
        "57   7   47  56.5  4.304  2.983    56240  2.082  12.16  0.2586  1.4430   \n",
        "58   7   47  57.0  4.304  3.056    54420  2.079  11.83  0.2517  1.4960   \n",
        "59   7   47  57.5  4.304  3.128    52730  2.076  11.83  0.2517  1.5480   \n",
        "   ...  ...   ...    ...    ...      ...    ...    ...     ...     ...   \n",
        "\n",
        "       alpha  \n",
        "0   1.678571  \n",
        "1   1.649123  \n",
        "2   1.620690  \n",
        "3   1.593220  \n",
        "4   1.566667  \n",
        "5   1.540984  \n",
        "6   1.516129  \n",
        "7   1.492063  \n",
        "8   1.468750  \n",
        "9   1.446154  \n",
        "10  1.424242  \n",
        "11  1.402985  \n",
        "12  1.382353  \n",
        "13  1.362319  \n",
        "14  1.342857  \n",
        "15  1.323944  \n",
        "16  1.305556  \n",
        "17  1.287671  \n",
        "18  1.270270  \n",
        "19  1.253333  \n",
        "20  1.236842  \n",
        "21  1.220779  \n",
        "22  1.205128  \n",
        "23  1.189873  \n",
        "24  1.175000  \n",
        "25  1.160494  \n",
        "26  1.146341  \n",
        "27  1.132530  \n",
        "28  1.119048  \n",
        "29  1.105882  \n",
        "30  1.093023  \n",
        "31  1.080460  \n",
        "32  1.068182  \n",
        "33  1.056180  \n",
        "34  1.044444  \n",
        "35  1.032967  \n",
        "36  1.021739  \n",
        "37  1.010753  \n",
        "38  1.000000  \n",
        "39  0.989474  \n",
        "40  0.979167  \n",
        "41  0.969072  \n",
        "42  0.959184  \n",
        "43  0.949495  \n",
        "44  0.940000  \n",
        "45  0.930693  \n",
        "46  0.921569  \n",
        "47  0.912621  \n",
        "48  0.903846  \n",
        "49  0.895238  \n",
        "50  0.886792  \n",
        "51  0.878505  \n",
        "52  0.870370  \n",
        "53  0.862385  \n",
        "54  0.854545  \n",
        "55  0.846847  \n",
        "56  0.839286  \n",
        "57  0.831858  \n",
        "58  0.824561  \n",
        "59  0.817391  \n",
        "         ...  \n",
        "\n",
        "[88 rows x 11 columns]"
       ]
      }
     ],
     "prompt_number": 47
    },
    {
     "cell_type": "markdown",
     "metadata": {},
     "source": [
      "Then we plot the optimization results"
     ]
    },
    {
     "cell_type": "code",
     "collapsed": false,
     "input": [
      "from matplotlib import rc\n",
      "rc('font',**{'family':'serif'})\n",
      "rc('text', usetex=True)\n",
      "\n",
      "\n",
      "color = ['blue', 'green', 'red', 'black']\n",
      "\n",
      "\n",
      "dat = np.loadtxt('alpha_opt/001.dat')\n",
      "df = pd.DataFrame( dat, columns=['v0', 'wIR', 'wGR', 'g0', 'EtaF', 'N', 'SN', 'HWHM', 'HWHMwL', 'DeltaF'])\n",
      "    \n",
      "T = 0.2 \n",
      "    \n",
      "fig = plt.figure(figsize=(8.5,2.4))\n",
      "gs  = matplotlib.gridspec.GridSpec(1,4, wspace=0.36, hspace=0.35,\\\n",
      "        left=0.05, right=0.99, bottom=0.18, top=0.93)\n",
      "\n",
      "axL = [ fig.add_subplot( gs[i] ) for i in range(4) ] \n",
      "\n",
      "axL[0].plot( df['wIR']/df['wGR'], df['g0'], 'o-', color='black', ms=3)\n",
      "axL[1].plot( df['wIR']/df['wGR'], df['EtaF'], 'o-', color='black', ms=3)\n",
      "axL[2].plot( df['wIR']/df['wGR'], df['DeltaF'], 'o-', color='black', ms=3)\n",
      "axL[3].plot( df['wIR']/df['wGR'], df['SN'], 'o-', color='black', ms=3)\n",
      "\n",
      "\n",
      "YLAB = ['$g_{0}$', '$\\eta_{F}$', '$\\Delta_{F}$', '$S/N$']        \n",
      "for i,ax in enumerate(axL):\n",
      "    ax.set_xlabel(r'$\\alpha_{\\mathrm{w}}$')\n",
      "    ax.set_xlim(0.85,1.22)\n",
      "    ax.set_ylabel( YLAB[i] ) \n",
      "    ax.grid(alpha=0.3)\n",
      "    ax.xaxis.set_major_locator( matplotlib.ticker.MultipleLocator(0.1))\n",
      "    ax.xaxis.set_minor_locator( matplotlib.ticker.MultipleLocator(0.05))\n",
      "    ax.tick_params(axis='both', which='major', length=2.5)\n",
      "    ax.tick_params(axis='both', which='minor', length=1.5)\n",
      "    \n",
      "    ax.axvline(1.136, color='0.2', alpha=0.5, lw=2.)\n",
      "    ax.text( 0.78, 1.01,  r'$\\alpha_{\\mathrm{evap}}$', \\\n",
      "            ha='center', va='bottom', transform=ax.transAxes)\n",
      "    \n",
      "    \n",
      "    \n",
      "axL[0].set_ylim(3.2,4.6)\n",
      "axL[1].set_ylim(0.8, 3.2)\n",
      "axL[2].set_ylim(0.,1.8)\n",
      "\n",
      "#axL[4].set_ylim(0.,10.)\n",
      "#axL[4].legend( bbox_to_anchor = (0.,1.1), loc='upper left', \\\n",
      "#        numpoints=1, labelspacing=0.2, prop={'size':8},\\\n",
      "#        handlelength=1.1, handletextpad=0.5 )\n",
      "\n",
      "\n",
      "\n",
      "\n",
      "fig.savefig('alpha_opt/001.png', dpi=300)\n"
     ],
     "language": "python",
     "metadata": {},
     "outputs": [
      {
       "metadata": {},
       "output_type": "display_data",
       "png": "[encoded data removed]",
       "text": [
        "<matplotlib.figure.Figure at 0x7f68551e9550>"
       ]
      }
     ],
     "prompt_number": 55
    },
    {
     "cell_type": "markdown",
     "metadata": {},
     "source": [
      "## Looking at atom number at optimized $g_0$\n",
      "\n",
      "We now consider the length scale of the system by varying $w_{L}$.  The optimization does not need to be run again, becaue the results are lengthscale independent and we have them available from above. \n"
     ]
    },
    {
     "cell_type": "code",
     "collapsed": false,
     "input": [
      "import optevap\n",
      "s=7.0\n",
      "aS=650.\n",
      "\n",
      "import pandas as pd\n",
      "dat = np.loadtxt('alpha_opt/001.dat')\n",
      "df = pd.DataFrame( dat, columns=['v0', 'wIR', 'wGR', 'g0', 'EtaF', 'N', 'SN', 'HWHM', 'HWHMwL', 'DeltaF'])\n",
      "df['alpha'] = df['wIR'] / df['wGR']\n",
      "\n",
      "from scipy.interpolate import interp1d\n",
      "g0f = interp1d( df['alpha'].values[::-1], df['g0'].values[::-1] )\n",
      "\n",
      "\n",
      "def ext( wIR, alpha ):\n",
      "    if alpha <= 0.85:\n",
      "        e = 1.10*wIR\n",
      "    elif alpha <=0.90:\n",
      "        e = 1.20*wIR\n",
      "    elif alpha < 0.95:\n",
      "        e = 1.30*wIR\n",
      "    elif alpha <= 1.:\n",
      "        e = 1.40*wIR\n",
      "    elif alpha <= 1.05:\n",
      "        e = 1.45*wIR\n",
      "    elif alpha <= 1.10:\n",
      "        e = 1.50*wIR\n",
      "    elif alpha <= 1.13:\n",
      "        e = 1.50*wIR\n",
      "    elif alpha <= 1.16:\n",
      "        e = 1.50*wIR\n",
      "    elif alpha <= 1.18:\n",
      "        e = 1.50*wIR\n",
      "    elif alpha <= 1.20:\n",
      "        e = 1.50*wIR \n",
      "    elif alpha <= 1.30:\n",
      "        e = 1.45*wIR\n",
      "    else:\n",
      "        e = 1.30*wIR\n",
      "        \n",
      "    estr =  \"wIR=%.2f, alpha=%.3f --> extents=%.2f\"%(wIR,alpha,e)\n",
      "    return e, estr\n",
      "\n",
      "savefile = 'alpha_opt/002.dat'\n",
      "open(savefile, 'w').close()\n",
      "    \n",
      "wIRs = [45., 50., 55., 60., 65., 70.]\n",
      "for wIR in wIRs:\n",
      "    print \"  wIR=%d\"%wIR,\n",
      "    wGRs = np.arange( 28., 72., 1.) \n",
      "    for wGR in wGRs:\n",
      "        \n",
      "        alpha = wIR/wGR \n",
      "        if alpha < 0.8 or alpha > 1.3:\n",
      "            continue \n",
      "    \n",
      "        T=0.2; extents, extstr = ext( wIR, wIR/wGR) \n",
      "        try:\n",
      "            g0 = g0f(alpha) -0.02\n",
      "            res =  np.array( [ [s, wIR, wGR]+ \\\n",
      "                    optevap.get_trap_results( s0=s, wL=wIR, wC=wGR, a_s=aS, T_Er=T, \\\n",
      "                                     extents=extents,  g0=g0) ] )\n",
      "\n",
      "            f_handle = file(savefile, 'a')\n",
      "            np.savetxt(f_handle, res, fmt='%.4g')\n",
      "            f_handle.close()\n",
      "\n",
      "        except Exception as e:\n",
      "        \n",
      "            print \"\\n\\nwIR=%d,wGR=%d->ERR\"%(wIR,wGR)\n",
      "            print alpha\n",
      "            print g0f(alpha) - 0.02\n",
      "            print optevap.optimal( s0=s, wL=wIR, wC=wGR, a_s=aS, T_Er=T, \\\n",
      "                                     extents=extents)\n",
      "            print extstr\n",
      "            print e \n",
      "            raise\n"
     ],
     "language": "python",
     "metadata": {},
     "outputs": [
      {
       "output_type": "stream",
       "stream": "stdout",
       "text": [
        "  wIR=45 "
       ]
      },
      {
       "output_type": "stream",
       "stream": "stdout",
       "text": [
        "  wIR=50 "
       ]
      },
      {
       "output_type": "stream",
       "stream": "stdout",
       "text": [
        "  wIR=55 "
       ]
      },
      {
       "output_type": "stream",
       "stream": "stdout",
       "text": [
        "  wIR=60 "
       ]
      },
      {
       "output_type": "stream",
       "stream": "stdout",
       "text": [
        "  wIR=65 "
       ]
      },
      {
       "output_type": "stream",
       "stream": "stdout",
       "text": [
        "  wIR=70\n"
       ]
      }
     ],
     "prompt_number": 36
    },
    {
     "cell_type": "code",
     "collapsed": false,
     "input": [
      "from matplotlib import rc\n",
      "rc('font',**{'family':'serif'})\n",
      "rc('text', usetex=True)\n",
      "\n",
      "\n",
      "color = ['blue', 'green', 'red', 'black']\n",
      "\n",
      "\n",
      "dat = np.loadtxt('alpha_opt/002.dat')\n",
      "df = pd.DataFrame( dat, columns=['v0', 'wIR', 'wGR', 'g0', 'EtaF', 'N', 'SN', 'HWHM', 'HWHMwL', 'DeltaF'])\n",
      "\n",
      "    \n",
      "T = 0.2 \n",
      "    \n",
      "fig = plt.figure(figsize=(5.3,2.3))\n",
      "gs  = matplotlib.gridspec.GridSpec(1,2, wspace=0.36, hspace=0.35,\\\n",
      "        left=0.08, right=0.99, bottom=0.16, top=0.93)\n",
      "\n",
      "axL = [ fig.add_subplot( gs[i] ) for i in range(2) ] \n",
      "\n",
      "for wIR in np.unique(df['wIR']):\n",
      "    subdf = df[ df['wIR'] == wIR ]\n",
      "    axL[0].plot( subdf['wIR']/subdf['wGR'], subdf['N']/1e5, 'o-', ms=3, label=r'${:d}$'.format(int(wIR)))\n",
      "    axL[1].plot( subdf['wIR']/subdf['wGR'], subdf['HWHMwL'], 'o-', ms=3)\n",
      "\n",
      "\n",
      "\n",
      "YLAB = ['$N/10^{5}$', '$\\mathrm{HWHM}/w_{L}$']        \n",
      "for i,ax in enumerate(axL):\n",
      "    ax.set_xlabel(r'$\\alpha_{\\mathrm{w}}$')\n",
      "    ax.set_xlim(0.85,1.22)\n",
      "    ax.set_ylabel( YLAB[i] ) \n",
      "    ax.grid(alpha=0.3)\n",
      "    ax.xaxis.set_major_locator( matplotlib.ticker.MultipleLocator(0.1))\n",
      "    ax.xaxis.set_minor_locator( matplotlib.ticker.MultipleLocator(0.05))\n",
      "    ax.tick_params(axis='both', which='major', length=2.5)\n",
      "    ax.tick_params(axis='both', which='minor', length=1.5)\n",
      "    \n",
      "    ax.axvline(1.136, color='0.2', alpha=0.5, lw=2.)\n",
      "    ax.text( 0.76, 1.01,  r'$\\alpha_{\\mathrm{evap}}$', \\\n",
      "            ha='center', va='bottom', transform=ax.transAxes)\n",
      "    \n",
      "    \n",
      "    \n",
      "#axL[0].set_ylim(3.2,4.6)\n",
      "#axL[1].set_ylim(0.8, 3.2)\n",
      "\n",
      "\n",
      "#axL[4].set_ylim(0.,10.)\n",
      "axL[0].legend( bbox_to_anchor = (0.05,0.95), loc='upper left', title='$w_{L}\\,(\\mu\\mathrm{m})$',\\\n",
      "        numpoints=1, labelspacing=0.2, prop={'size':8},\\\n",
      "        handlelength=1.1, handletextpad=0.5 )\n",
      "\n",
      "\n",
      "\n",
      "\n",
      "fig.savefig('alpha_opt/002.png', dpi=300)\n"
     ],
     "language": "python",
     "metadata": {},
     "outputs": [
      {
       "metadata": {},
       "output_type": "display_data",
       "png": "[encoded data removed]",
       "text": [
        "<matplotlib.figure.Figure at 0x7f685565b050>"
       ]
      }
     ],
     "prompt_number": 65
    },
    {
     "cell_type": "markdown",
     "metadata": {},
     "source": [
      "## From here on, tests...."
     ]
    },
    {
     "cell_type": "code",
     "collapsed": false,
     "input": [
      "import scubic\n",
      "import lda\n",
      "\n",
      "s=7.\n",
      "g=4.35\n",
      "wIR=71.\n",
      "wGR=80.\n",
      "T = 0.2\n",
      "extents=50.\n",
      "\n",
      "pot = scubic.sc(allIR=s, allGR=g, allIRw=wIR, allGRw=wGR)\n",
      "test = lda.lda(potential = pot, Temperature=T, a_s=650., extents=extents, globalMu='halfMott', verbose=True, ignoreExtents=True)\n",
      "print test.Number\n",
      "fig = lda.plotLine( test , line_direction='111', extents=extents) \n",
      "\n",
      "print test.getRadius() / wIR"
     ],
     "language": "python",
     "metadata": {},
     "outputs": [
      {
       "output_type": "stream",
       "stream": "stdout",
       "text": [
        "OK: Bottom of the band has positive slope up to r111 = 10 um\n",
        "OK: Chemical potential is below evaporation threshold.\n",
        "OK: Chemical potential is below the bottom of the band along 100\n",
        "OK: Radial density profile along 111 decreases monotonically.\n",
        "266875.838949\n",
        "-8.66116121158"
       ]
      },
      {
       "output_type": "stream",
       "stream": "stdout",
       "text": [
        " 6.98591809963\n",
        "0.280365579054\n"
       ]
      },
      {
       "metadata": {},
       "output_type": "display_data",
       "png": "[encoded data removed]",
       "text": [
        "<matplotlib.figure.Figure at 0xa0d368c>"
       ]
      }
     ],
     "prompt_number": 7
    },
    {
     "cell_type": "code",
     "collapsed": false,
     "input": [
      "import scubic\n",
      "import lda\n",
      "\n",
      "s=7.\n",
      "g=4.3479\n",
      "wIR=60.\n",
      "wGR=60.\n",
      "\n",
      "pot = scubic.sc(allIR=s, allGR=g, allIRw=wIR, allGRw=wGR)\n",
      "test = lda.lda(potential = pot, Temperature=0.26, a_s=650., extents=50., globalMu='halfMott', verbose=True)\n",
      "print test.Number\n",
      "fig = lda.plotLine( test , line_direction='111', extents=50.) \n",
      "\n"
     ],
     "language": "python",
     "metadata": {},
     "outputs": [
      {
       "output_type": "stream",
       "stream": "stdout",
       "text": [
        "OK: Bottom of the band has positive slope up to r111 = 10 um\n",
        "OK: Chemical potential is below evaporation threshold.\n",
        "OK: Chemical potential is below the bottom of the band along 100\n",
        "OK: Radial density profile along 111 decreases monotonically.\n",
        "545520.541319\n"
       ]
      },
      {
       "metadata": {},
       "output_type": "display_data",
       "png": "[encoded data removed]",
       "text": [
        "<matplotlib.figure.Figure at 0xa326d2c>"
       ]
      }
     ],
     "prompt_number": 10
    },
    {
     "cell_type": "code",
     "collapsed": false,
     "input": [
      "import optevap\n",
      "wIR = 47. \n",
      "wGR = 40.\n",
      "s=7.\n",
      "results = []\n",
      "results.append( [s, wIR, wGR]+optevap.optimal( s0=s, wL=wIR, wC=wGR, T_Er=0.383, a_s=650., extents=100. ))\n",
      "print results "
     ],
     "language": "python",
     "metadata": {},
     "outputs": [
      {
       "output_type": "stream",
       "stream": "stdout",
       "text": [
        "[[7.0, 47.0, 40.0, 4.006665678552408, 1.9545011948819773, 1659347.2424227342, 2.4501077005510155]]\n"
       ]
      }
     ],
     "prompt_number": 32
    },
    {
     "cell_type": "code",
     "collapsed": false,
     "input": [
      "import scubic\n",
      "import lda\n",
      "\n",
      "s=7.\n",
      "g=4.0066\n",
      "wIR=47.\n",
      "wGR=40.\n",
      "\n",
      "pot = scubic.sc(allIR=s, allGR=g, allIRw=wIR, allGRw=wGR)\n",
      "test = lda.lda(potential = pot, a_s=650., globalMu='halfMott', Temperature=0.383, extents=100., verbose=True)\n",
      "fig = lda.plotLine( test , line_direction='111', extents=50.) "
     ],
     "language": "python",
     "metadata": {},
     "outputs": [
      {
       "output_type": "stream",
       "stream": "stdout",
       "text": [
        "OK: Bottom of the band has positive slope up to r111 = 10 um\n",
        "OK: Chemical potential is below evaporation threshold.\n",
        "OK: Chemical potential is below the bottom of the band along 100\n",
        "OK: Radial density profile along 111 decreases monotonically.\n"
       ]
      },
      {
       "metadata": {},
       "output_type": "display_data",
       "png": "[encoded data removed]",
       "text": [
        "<matplotlib.figure.Figure at 0xaa91e2c>"
       ]
      }
     ],
     "prompt_number": 34
    },
    {
     "cell_type": "code",
     "collapsed": false,
     "input": [
      "import optevap\n",
      "wIR = 32. \n",
      "wGR = 27.\n",
      "s=7.\n",
      "results = []\n",
      "results.append( [s, wIR, wGR]+optevap.optimal( s0=s, wL=wIR, wC=wGR, T_Er=0.383, a_s=650., extents=80. ))\n",
      "print results "
     ],
     "language": "python",
     "metadata": {},
     "outputs": [
      {
       "output_type": "stream",
       "stream": "stdout",
       "text": [
        "[[7.0, 32.0, 27.0, 3.938097014635825, 2.1596415418707413, 473357.98910100898, 2.4784877360872914]]\n"
       ]
      }
     ],
     "prompt_number": 37
    },
    {
     "cell_type": "code",
     "collapsed": false,
     "input": [
      "import scubic\n",
      "import lda\n",
      "\n",
      "s=7.\n",
      "g=3.938\n",
      "wIR=32.\n",
      "wGR=27.\n",
      "\n",
      "pot = scubic.sc(allIR=s, allGR=g, allIRw=wIR, allGRw=wGR)\n",
      "test = lda.lda(potential = pot, a_s=650., globalMu='halfMott', Temperature=0.383, extents=80., verbose=True)\n",
      "fig = lda.plotLine( test , line_direction='111', extents=50.) "
     ],
     "language": "python",
     "metadata": {},
     "outputs": [
      {
       "output_type": "stream",
       "stream": "stdout",
       "text": [
        "OK: Bottom of the band has positive slope up to r111 = 10 um\n",
        "OK: Chemical potential is below evaporation threshold.\n",
        "OK: Chemical potential is below the bottom of the band along 100\n",
        "OK: Radial density profile along 111 decreases monotonically.\n"
       ]
      },
      {
       "metadata": {},
       "output_type": "display_data",
       "png": "[encoded data removed]",
       "text": [
        "<matplotlib.figure.Figure at 0xa39884c>"
       ]
      }
     ],
     "prompt_number": 39
    },
    {
     "cell_type": "code",
     "collapsed": false,
     "input": [],
     "language": "python",
     "metadata": {},
     "outputs": []
    }
   ],
   "metadata": {}
  }
 ]
}